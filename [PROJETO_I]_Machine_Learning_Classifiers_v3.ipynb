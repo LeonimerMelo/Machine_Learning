{
  "nbformat": 4,
  "nbformat_minor": 0,
  "metadata": {
    "colab": {
      "provenance": [],
      "include_colab_link": true
    },
    "kernelspec": {
      "name": "python3",
      "display_name": "Python 3"
    },
    "language_info": {
      "name": "python"
    }
  },
  "cells": [
    {
      "cell_type": "markdown",
      "metadata": {
        "id": "view-in-github",
        "colab_type": "text"
      },
      "source": [
        "<a href=\"https://colab.research.google.com/github/LeonimerMelo/Machine_Learning/blob/Projetos/%5BPROJETO_I%5D_Machine_Learning_Classifiers_v3.ipynb\" target=\"_parent\"><img src=\"https://colab.research.google.com/assets/colab-badge.svg\" alt=\"Open In Colab\"/></a>"
      ]
    },
    {
      "cell_type": "markdown",
      "source": [
        "<h1><b><u><center> PROJETO I</u> - Classificação utilizando <i>Machine Learning</i>"
      ],
      "metadata": {
        "id": "w_npclp1Efc7"
      }
    },
    {
      "cell_type": "markdown",
      "source": [
        "## **1. Introdução**\n",
        "\n",
        "Considerando modelos inteligentes, muito se fala sobre avanços tecnológicos, inclusive na rede elétrica. Através da utilização de dispositivos inteligentes, permite-se o controle remoto e o fornecimento de controles descentralizados. Além disso, redes inteligentes  são projetadas para auxiliar a rede elétrica em situações anormais, tal como por exemplo na resposta automática a demandas de carga quando há interrupções.\n",
        "\n",
        "Nota-se que os desafios, em qualquer definição, são enormes. Certamente, sistemas inteligentes auxiliam no modo como a rede é operada e analisada. Visto a importância deste tema, este projeto visa classificar o estado de um sistema elétrico de potência, o qual é classificado como estável ou instável."
      ],
      "metadata": {
        "id": "PL5CrcbDFYBB"
      }
    },
    {
      "cell_type": "markdown",
      "source": [
        "## **2. Dataset**\n",
        "\n",
        "O *dataset* a ser utilizado neste projeto foi disponibilizado no repositório *the UCI machine learning* o qual é denominado [*Electrical Grid Stability Simulated Data*](https://archive.ics.uci.edu/dataset/471/electrical+grid+stability+simulated+data). Esta base de dados contém 10.000 observações (amostras), 12 atributos (*features*) e duas colunas (*targets*) relacionadas às classes. Segue descrição de algumas das *features*:\n",
        "\n",
        "- Tau[x]: tempo de reação (range ([0.5,10]s), x= 1,2,3,4\n",
        "\n",
        "- P[x]: potência nominal consumida (negativa)/produzida (positiva)(real) , x= 1,2,3\n",
        "\n",
        "- G[x]: coeficiente (gamma) proporcional a elasticidade-preço (real), x= 1,2,3,4\n",
        "\n",
        "- Stab: a parte real máxima da raiz da equação característica (se positivo –\n",
        "o sistema é quase instável) (real)\n",
        "\n",
        "- Stabf: a etiqueta de estabilidade do sistema (estável/instável)"
      ],
      "metadata": {
        "id": "QQjHtDHSSCME"
      }
    },
    {
      "cell_type": "markdown",
      "source": [
        "## **3. Descrição do Projeto**\n",
        "\n",
        "Dada a descrição do conjunto de dados e a relevância deste tema, elabore um *notebook* (colab) com a análise dos dados e proposta de classificação conforme instruções em sala de aula para processamento de dados e aplicação de algoritmos de *machine learning*. Para cada item apresentado, elaborar célula texto com explicação do que fora realizado e o porquê do método utilizado. Gerar gráficos e tabelas.\n",
        "\n",
        "Segue *pipeline* de execução:\n",
        "- <u>*Features and Targets*</u> - retire do banco de dados as colunas que serão utilizadas como targets (classes): `Stab` e `Stabf`. Utilize os dados da coluna `Stabf` como *label* para treinamento e testes. Visualise o banco de dados;\n",
        "- <u>Análise dos dados</u> - verificação dos atributos e amostras, análise do balanceamento dos dados (classes), análise da distribuição dos dados, gerar gráficos;\n",
        "- <u>*Feature importance*</u> - faça uma análise da importância e dos pesos dos atributos (*features*) correlacionados com as classes (*targets*);\n",
        "- <u>Pré-processamento dos dados</u> - um passo significativo no processo de análise e qualidade dos dados, o qual abrange: valores ausentes, ouliers, ajustes de formatos não compatíveis;\n",
        "- <u>Separação dos dados para classificação</u> - identificação das colunas: *features* (X) e *targets* (Y); separação entre treino/teste utilizando método de holdout (70%/30%);\n",
        "- <u>Métodos de Classificação</u> - utilização de algoritmos de classificação e variação de parâmetros para identificação do melhor modelo conforme documentação do pacote scikit-learn:\n",
        "  - [Regressão Logística](https://scikit-learn.org/stable/modules/generated/sklearn.linear_model.LogisticRegression.html) (`penalty=['l1', 'l2', 'elasticnet', 'none'], max_iter=variar entre 10 e 100)`)\n",
        "  - [k-NN](https://scikit-learn.org/stable/modules/generated/sklearn.neighbors.KNeighborsClassifier.html) (`n_neighbors=identificar melhor n vizinhos, metric=variar conforme pacote  scipy.spatial.distance`)\n",
        "  - [KMeans](https://scikit-learn.org/stable/modules/generated/sklearn.cluster.KMeans.html) (`n_clusters=identificar número de clusters conforme Elbow Curve`)\n",
        "  - [Random Forest](https://scikit-learn.org/stable/modules/generated/sklearn.ensemble.RandomForestClassifier.html) (`n_estimators=[10, 50 e 100], criterion=[“gini”, “entropy”, “log_loss”]`)\n",
        "  - [SVM](https://scikit-learn.org/stable/modules/generated/sklearn.svm.SVC.html) (`C=variar entre 1.0 e 100.0, kernel=['linear','poly','rbf','sigmoid']`)\n",
        "- <u>Treinamento dos modelos</u> - treine os modelos inicialmente com todas as *features* do banco de dados. Depois treine somente com as *features* de maior relevânvia/importância e que estejam melhores correlacionadas. Compare os resultados.\n",
        "- <u>Análise dos resultados obtidos</u> - análise da performance de cada modelo utilizandos as métricas de avaliação (*Precision*, *Recall*, *F1-measure*, *Accuracy*), gerar gráficos e tabelas. Explicar e comentar os resultos obtidos;\n",
        "- <u>Análise dos classificadores</u> - analisar os resultados obtidos como um todo, identificando quais foram os modelos que obtiveram melhor/pior desempenho, justificar. Analisar Matriz de Confusão dos dados como base para justificativa de desempenho, gerar gráficos."
      ],
      "metadata": {
        "id": "P4nao-NeUkr3"
      }
    }
  ]
}